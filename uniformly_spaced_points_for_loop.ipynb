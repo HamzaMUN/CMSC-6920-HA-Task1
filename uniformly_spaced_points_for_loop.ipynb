{
 "cells": [
  {
   "cell_type": "code",
   "execution_count": 3,
   "id": "3ee93741-dba5-4fe8-9f9c-61bfea102420",
   "metadata": {},
   "outputs": [
    {
     "name": "stdout",
     "output_type": "stream",
     "text": [
      "***\n",
      "Please provide the values for the start of the interval (a), end of the interval (b) and number of interior points (N) to generate a list of uniformly spaced points.\n",
      "***\n"
     ]
    },
    {
     "name": "stdin",
     "output_type": "stream",
     "text": [
      "Enter the start of the interval (a):  1\n",
      "Enter the end of the interval (b):  10\n",
      "Enter the number of interior points (N):  10\n"
     ]
    },
    {
     "name": "stdout",
     "output_type": "stream",
     "text": [
      "***\n",
      "Output\n",
      "***\n",
      "The uniformly spaced points are:\n",
      " [1.0, 1.8181818181818183, 2.6363636363636367, 3.4545454545454546, 4.272727272727273, 5.090909090909091, 5.909090909090909, 6.7272727272727275, 7.545454545454546, 8.363636363636363, 9.181818181818182, 10.0]\n"
     ]
    }
   ],
   "source": [
    "import numpy as np\n",
    "\n",
    "def validate_input(a, b, N):\n",
    "    # Validate the user input for the interval and number of interior points.\n",
    "    if a >= b:\n",
    "        raise ValueError(\"The start of the interval (a) must be less than the end of the interval (b).\")\n",
    "    elif N < 1:\n",
    "        raise ValueError(\"The number of interior points (N) must be a positive integer.\")\n",
    "    \n",
    "def gen_uniform_points(a, b, N):\n",
    "    #Generate uniformly spaced points in the interval [a, b] with N interior points.\n",
    "    step_size = (b - a) / (N + 1)  # N + 1 because we want N interior points\n",
    "    points = [a + i * step_size for i in range(N + 2)]  # Including a and b\n",
    "    return points\n",
    "\n",
    "def main():\n",
    "    print (\"***\\nPlease provide the values for the start of the interval (a), end of the interval (b) and number of interior points (N) to generate a list of uniformly spaced points.\\n***\")\n",
    "    try:\n",
    "        # Take user input values for a, b, and N\n",
    "        a = int(input(\"Enter the start of the interval (a): \"))\n",
    "        b = int(input(\"Enter the end of the interval (b): \"))\n",
    "        N = int(input(\"Enter the number of interior points (N): \"))\n",
    "        \n",
    "        # Validate inputs\n",
    "        validate_input(a, b, N)\n",
    "        \n",
    "        # Generate uniformly spaced points\n",
    "        points = gen_uniform_points(a, b, N)\n",
    "        \n",
    "        # Output the result\n",
    "        print(\"***\\nOutput\\n***\\nThe uniformly spaced points are:\\n\", points)\n",
    "    \n",
    "    except ValueError as e:\n",
    "        print(f\"Validation error: {e}\")\n",
    "\n",
    "# Run the main function\n",
    "main()"
   ]
  },
  {
   "cell_type": "code",
   "execution_count": null,
   "id": "02aff362-5c38-42e7-bc2e-819a3fe38624",
   "metadata": {},
   "outputs": [],
   "source": []
  }
 ],
 "metadata": {
  "kernelspec": {
   "display_name": "Python 3 (ipykernel)",
   "language": "python",
   "name": "python3"
  },
  "language_info": {
   "codemirror_mode": {
    "name": "ipython",
    "version": 3
   },
   "file_extension": ".py",
   "mimetype": "text/x-python",
   "name": "python",
   "nbconvert_exporter": "python",
   "pygments_lexer": "ipython3",
   "version": "3.12.8"
  }
 },
 "nbformat": 4,
 "nbformat_minor": 5
}
