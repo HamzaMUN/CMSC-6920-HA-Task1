{
 "cells": [
  {
   "cell_type": "code",
   "execution_count": 1,
   "id": "62cd27bd-cf4a-431e-b0b1-d6bc9592b8da",
   "metadata": {},
   "outputs": [
    {
     "name": "stdout",
     "output_type": "stream",
     "text": [
      "***\n",
      "Please provide the values for the start of the interval (a), end of the interval (b) and number of interior points (N) to generate a list of uniformly spaced points.\n",
      "***\n",
      "***\n",
      "Output\n",
      "***\n",
      "The uniformly spaced points are:\n",
      " [-2.0, -0.9090909090909092, 0.18181818181818166, 1.2727272727272725, 2.3636363636363633, 3.454545454545454, 4.545454545454545, 5.636363636363636, 6.727272727272727, 7.818181818181817, 8.909090909090908, 10.0]\n"
     ]
    }
   ],
   "source": [
    "import numpy as np\n",
    "\n",
    "def validate_input(a, b, N):\n",
    "    #Validate the user input for the interval and number of interior points.\n",
    "    if a >= b:\n",
    "        raise ValueError(\"The start of the interval (a) must be less than the end of the interval (b).\")\n",
    "    elif N < 1:\n",
    "        raise ValueError(\"The number of interior points (N) must be a positive integer.\")\n",
    "\n",
    "def gen_uniform_points(a, b, N):\n",
    "    \"\"\"Generate uniformly spaced points in the interval [a, b] with N interior points.\"\"\"\n",
    "    return np.linspace(a, b, N + 2)  # N + 2 includes both a and b\n",
    "\n",
    "def get_user_input():\n",
    "    #Prompt the user to input the start, end, and number of interior points.\n",
    "    a = int(input(\"Enter the start of the interval (a): \"))\n",
    "    b = int(input(\"Enter the end of the interval (b): \"))\n",
    "    N = int(input(\"Enter the number of interior points (N): \"))\n",
    "    return a, b, N\n",
    "\n",
    "def main():\n",
    "    print(\"***\\nPlease provide the values for the start of the interval (a), end of the interval (b) and number of interior points (N) to generate a list of uniformly spaced points.\\n***\")\n",
    "    try:\n",
    "        # Get user input\n",
    "        a, b, N = get_user_input()\n",
    "        \n",
    "        # Validate inputs\n",
    "        validate_input(a, b, N)\n",
    "        \n",
    "        # Generate uniformly spaced points\n",
    "        points = gen_uniform_points(a, b, N)\n",
    "        \n",
    "        # Output the result\n",
    "        print(\"***\\nOutput\\n***\\nThe uniformly spaced points are:\\n\", points.tolist())\n",
    "    \n",
    "    except ValueError as e:\n",
    "        print(f\"Validation error: {e}\")\n",
    "\n",
    "# Run the main function\n",
    "main()"
   ]
  },
  {
   "cell_type": "code",
   "execution_count": null,
   "id": "f22667a4-f513-4b03-bf7d-ea402411ff28",
   "metadata": {},
   "outputs": [],
   "source": []
  }
 ],
 "metadata": {
  "kernelspec": {
   "display_name": ".venv",
   "language": "python",
   "name": "python3"
  },
  "language_info": {
   "codemirror_mode": {
    "name": "ipython",
    "version": 3
   },
   "file_extension": ".py",
   "mimetype": "text/x-python",
   "name": "python",
   "nbconvert_exporter": "python",
   "pygments_lexer": "ipython3",
   "version": "3.12.3"
  }
 },
 "nbformat": 4,
 "nbformat_minor": 5
}
