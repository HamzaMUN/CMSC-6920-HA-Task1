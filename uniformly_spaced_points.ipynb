{
 "cells": [
  {
   "cell_type": "code",
   "execution_count": 17,
   "id": "62cd27bd-cf4a-431e-b0b1-d6bc9592b8da",
   "metadata": {},
   "outputs": [
    {
     "name": "stdout",
     "output_type": "stream",
     "text": [
      "***\n",
      "Please provide the values for the start of the interval (a), end of the interval (b) and number of interior points (N) to generate a list of unifromly spaced points.\n",
      "***\n"
     ]
    },
    {
     "name": "stdin",
     "output_type": "stream",
     "text": [
      "Enter the start of the interval (a):  0\n",
      "Enter the end of the interval (b):  100\n",
      "Enter the number of interior points (N):  99\n"
     ]
    },
    {
     "name": "stdout",
     "output_type": "stream",
     "text": [
      "***\n",
      "Output\n",
      "***\n",
      "The uniformly spaced points are:\n",
      " [0.0, 1.0, 2.0, 3.0, 4.0, 5.0, 6.0, 7.0, 8.0, 9.0, 10.0, 11.0, 12.0, 13.0, 14.0, 15.0, 16.0, 17.0, 18.0, 19.0, 20.0, 21.0, 22.0, 23.0, 24.0, 25.0, 26.0, 27.0, 28.0, 29.0, 30.0, 31.0, 32.0, 33.0, 34.0, 35.0, 36.0, 37.0, 38.0, 39.0, 40.0, 41.0, 42.0, 43.0, 44.0, 45.0, 46.0, 47.0, 48.0, 49.0, 50.0, 51.0, 52.0, 53.0, 54.0, 55.0, 56.0, 57.0, 58.0, 59.0, 60.0, 61.0, 62.0, 63.0, 64.0, 65.0, 66.0, 67.0, 68.0, 69.0, 70.0, 71.0, 72.0, 73.0, 74.0, 75.0, 76.0, 77.0, 78.0, 79.0, 80.0, 81.0, 82.0, 83.0, 84.0, 85.0, 86.0, 87.0, 88.0, 89.0, 90.0, 91.0, 92.0, 93.0, 94.0, 95.0, 96.0, 97.0, 98.0, 99.0, 100.0]\n"
     ]
    }
   ],
   "source": [
    "import numpy as np\n",
    "\n",
    "print (\"***\\nPlease provide the values for the start of the interval (a), end of the interval (b) and number of interior points (N) to generate a list of unifromly spaced points.\\n***\")\n",
    "try:\n",
    "    # Take user input values for a, b and N\n",
    "    a = int(input(\"Enter the start of the interval (a): \"))\n",
    "    b = int(input(\"Enter the end of the interval (b): \"))\n",
    "    N = int(input(\"Enter the number of interior points (N): \"))\n",
    "    \n",
    "    # Input validations\n",
    "    if a >= b:\n",
    "        print(\"Validation error: The start of the interval (a) must be less than the end of the interval (b).\")\n",
    "    elif N < 1:\n",
    "        print(\"Validation error: The number of interior points (N) must be a real number.\")\n",
    "    else:\n",
    "        points = np.linspace(a, b, N + 2) # N + 2 is used because we need [a,x_1,x_2,....,x_N,b] which includes both a and b\n",
    "        print(\"***\\nOutput\\n***\\nThe uniformly spaced points are:\\n\", points.tolist())\n",
    "except ValueError:\n",
    "    print(\"Validation error: please enter valid number values for a, b and N\")"
   ]
  },
  {
   "cell_type": "code",
   "execution_count": null,
   "id": "f22667a4-f513-4b03-bf7d-ea402411ff28",
   "metadata": {},
   "outputs": [],
   "source": []
  }
 ],
 "metadata": {
  "kernelspec": {
   "display_name": "Python 3 (ipykernel)",
   "language": "python",
   "name": "python3"
  },
  "language_info": {
   "codemirror_mode": {
    "name": "ipython",
    "version": 3
   },
   "file_extension": ".py",
   "mimetype": "text/x-python",
   "name": "python",
   "nbconvert_exporter": "python",
   "pygments_lexer": "ipython3",
   "version": "3.12.8"
  }
 },
 "nbformat": 4,
 "nbformat_minor": 5
}
